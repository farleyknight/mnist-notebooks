{
 "cells": [
  {
   "cell_type": "code",
   "execution_count": 4,
   "id": "94f0c662-cbf3-45a2-b732-4d945961c152",
   "metadata": {
    "execution": {
     "iopub.execute_input": "2022-09-26T00:23:06.977398Z",
     "iopub.status.busy": "2022-09-26T00:23:06.976969Z",
     "iopub.status.idle": "2022-09-26T00:23:06.982216Z",
     "shell.execute_reply": "2022-09-26T00:23:06.981573Z",
     "shell.execute_reply.started": "2022-09-26T00:23:06.977371Z"
    }
   },
   "outputs": [],
   "source": [
    "# prerequisites\n",
    "import torch\n",
    "import torch.nn as nn\n",
    "import torch.nn.functional as F\n",
    "import torch.optim as optim\n",
    "from torchvision import datasets, transforms\n",
    "from torch.autograd import Variable\n",
    "from torchvision.utils import save_image\n",
    "\n",
    "z_dim = 100\n",
    "device = torch.device('cuda' if torch.cuda.is_available() else 'cpu')"
   ]
  },
  {
   "cell_type": "code",
   "execution_count": null,
   "id": "68d2e462-9b2a-468d-9355-82e36ab03ca0",
   "metadata": {},
   "outputs": [],
   "source": [
    "bs = 100\n",
    "\n",
    "# MNIST Dataset\n",
    "transform = transforms.Compose([\n",
    "    transforms.ToTensor(),\n",
    "    transforms.Normalize(mean=(0.5), std=(0.5))])\n",
    "\n",
    "train_dataset = datasets.MNIST(root='./mnist_data/', train=True, transform=transform, download=True)\n",
    "test_dataset = datasets.MNIST(root='./mnist_data/', train=False, transform=transform, download=False)\n",
    "\n",
    "# Data Loader (Input Pipeline)\n",
    "train_loader = torch.utils.data.DataLoader(dataset=train_dataset, batch_size=bs, shuffle=True)\n",
    "test_loader = torch.utils.data.DataLoader(dataset=test_dataset, batch_size=bs, shuffle=False)"
   ]
  },
  {
   "cell_type": "code",
   "execution_count": 6,
   "id": "5bd8109f-641d-454d-8d1a-37b786962ead",
   "metadata": {
    "execution": {
     "iopub.execute_input": "2022-09-26T00:23:22.972414Z",
     "iopub.status.busy": "2022-09-26T00:23:22.972077Z",
     "iopub.status.idle": "2022-09-26T00:23:22.987410Z",
     "shell.execute_reply": "2022-09-26T00:23:22.986427Z",
     "shell.execute_reply.started": "2022-09-26T00:23:22.972378Z"
    }
   },
   "outputs": [],
   "source": [
    "class Generator(nn.Module):\n",
    "    def __init__(self, g_input_dim, g_output_dim):\n",
    "        super(Generator, self).__init__()       \n",
    "        self.fc1 = nn.Linear(g_input_dim, 256)\n",
    "        self.fc2 = nn.Linear(self.fc1.out_features, self.fc1.out_features*2)\n",
    "        self.fc3 = nn.Linear(self.fc2.out_features, self.fc2.out_features*2)\n",
    "        self.fc4 = nn.Linear(self.fc3.out_features, g_output_dim)\n",
    "    # forward method\n",
    "    def forward(self, x): \n",
    "        x = F.leaky_relu(self.fc1(x), 0.2)\n",
    "        x = F.leaky_relu(self.fc2(x), 0.2)\n",
    "        x = F.leaky_relu(self.fc3(x), 0.2)\n",
    "        return torch.tanh(self.fc4(x))\n",
    "    \n",
    "class Discriminator(nn.Module):\n",
    "    def __init__(self, d_input_dim):\n",
    "        super(Discriminator, self).__init__()\n",
    "        self.fc1 = nn.Linear(d_input_dim, 1024)\n",
    "        self.fc2 = nn.Linear(self.fc1.out_features, self.fc1.out_features//2)\n",
    "        self.fc3 = nn.Linear(self.fc2.out_features, self.fc2.out_features//2)\n",
    "        self.fc4 = nn.Linear(self.fc3.out_features, 1)\n",
    "    \n",
    "    # forward method\n",
    "    def forward(self, x):\n",
    "        x = F.leaky_relu(self.fc1(x), 0.2)\n",
    "        x = F.dropout(x, 0.3)\n",
    "        x = F.leaky_relu(self.fc2(x), 0.2)\n",
    "        x = F.dropout(x, 0.3)\n",
    "        x = F.leaky_relu(self.fc3(x), 0.2)\n",
    "        x = F.dropout(x, 0.3)\n",
    "        return torch.sigmoid(self.fc4(x))"
   ]
  },
  {
   "cell_type": "code",
   "execution_count": null,
   "id": "d21a97e1-68df-49cc-a7b0-06a8aeede7f4",
   "metadata": {},
   "outputs": [],
   "source": [
    "def train():\n",
    "    # build network\n",
    "    mnist_dim = train_dataset.train_data.size(1) * train_dataset.train_data.size(2)\n",
    "\n",
    "    G = Generator(g_input_dim = z_dim, g_output_dim = mnist_dim).to(device)\n",
    "    D = Discriminator(mnist_dim).to(device)\n",
    "    \n",
    "    # loss\n",
    "    criterion = nn.BCELoss() \n",
    "\n",
    "    # optimizer\n",
    "    lr = 0.0002 \n",
    "    G_optimizer = optim.Adam(G.parameters(), lr = lr)\n",
    "    D_optimizer = optim.Adam(D.parameters(), lr = lr)\n",
    "    \n",
    "    \n",
    "    def D_train(x):\n",
    "        #=======================Train the discriminator=======================#\n",
    "        D.zero_grad()\n",
    "\n",
    "        # train discriminator on real\n",
    "        x_real, y_real = x.view(-1, mnist_dim), torch.ones(bs, 1)\n",
    "        x_real, y_real = Variable(x_real.to(device)), Variable(y_real.to(device))\n",
    "\n",
    "        D_output = D(x_real)\n",
    "        D_real_loss = criterion(D_output, y_real)\n",
    "        D_real_score = D_output\n",
    "\n",
    "        # train discriminator on facke\n",
    "        z = Variable(torch.randn(bs, z_dim).to(device))\n",
    "        x_fake, y_fake = G(z), Variable(torch.zeros(bs, 1).to(device))\n",
    "\n",
    "        D_output = D(x_fake)\n",
    "        D_fake_loss = criterion(D_output, y_fake)\n",
    "        D_fake_score = D_output\n",
    "\n",
    "        # gradient backprop & optimize ONLY D's parameters\n",
    "        D_loss = D_real_loss + D_fake_loss\n",
    "        D_loss.backward()\n",
    "        D_optimizer.step()\n",
    "\n",
    "        return  D_loss.data.item()\n",
    "    \n",
    "    \n",
    "    def G_train(x):\n",
    "        #=======================Train the generator=======================#\n",
    "        G.zero_grad()\n",
    "\n",
    "        z = Variable(torch.randn(bs, z_dim).to(device))\n",
    "        y = Variable(torch.ones(bs, 1).to(device))\n",
    "\n",
    "        G_output = G(z)\n",
    "        D_output = D(G_output)\n",
    "        G_loss = criterion(D_output, y)\n",
    "\n",
    "        # gradient backprop & optimize ONLY G's parameters\n",
    "        G_loss.backward()\n",
    "        G_optimizer.step()\n",
    "\n",
    "        return G_loss.data.item()\n",
    "    \n",
    "    n_epoch = 200\n",
    "    for epoch in range(1, n_epoch+1):           \n",
    "        D_losses, G_losses = [], []\n",
    "        for batch_idx, (x, _) in enumerate(train_loader):\n",
    "            D_losses.append(D_train(x))\n",
    "            G_losses.append(G_train(x))\n",
    "\n",
    "        print('[%d/%d]: loss_d: %.3f, loss_g: %.3f' % (\n",
    "                (epoch), n_epoch, torch.mean(torch.FloatTensor(D_losses)), torch.mean(torch.FloatTensor(G_losses))))\n",
    "        \n",
    "    return [G, D]"
   ]
  },
  {
   "cell_type": "code",
   "execution_count": 7,
   "id": "7e910eed-a3b7-4292-b796-fc6d86a3a40e",
   "metadata": {
    "execution": {
     "iopub.execute_input": "2022-09-26T00:23:27.529339Z",
     "iopub.status.busy": "2022-09-26T00:23:27.529040Z",
     "iopub.status.idle": "2022-09-26T00:23:28.159005Z",
     "shell.execute_reply": "2022-09-26T00:23:28.157753Z",
     "shell.execute_reply.started": "2022-09-26T00:23:27.529313Z"
    }
   },
   "outputs": [],
   "source": [
    "with torch.no_grad():\n",
    "    test_z = Variable(torch.randn(1, z_dim).to(device))\n",
    "    G = torch.load('./models/generator.pt')\n",
    "    generated = G(test_z)\n",
    "    save_image(generated.view(generated.size(0), 1, 28, 28), './samples/sample_gan.png')"
   ]
  },
  {
   "cell_type": "code",
   "execution_count": null,
   "id": "73b3ec92-5d46-4ab9-aa37-2ab35ef2907c",
   "metadata": {},
   "outputs": [],
   "source": []
  }
 ],
 "metadata": {
  "kernelspec": {
   "display_name": "Python 3 (ipykernel)",
   "language": "python",
   "name": "python3"
  },
  "language_info": {
   "codemirror_mode": {
    "name": "ipython",
    "version": 3
   },
   "file_extension": ".py",
   "mimetype": "text/x-python",
   "name": "python",
   "nbconvert_exporter": "python",
   "pygments_lexer": "ipython3",
   "version": "3.8.12"
  }
 },
 "nbformat": 4,
 "nbformat_minor": 5
}
