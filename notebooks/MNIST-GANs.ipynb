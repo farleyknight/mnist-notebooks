{
 "cells": [
  {
   "cell_type": "code",
   "execution_count": 1,
   "id": "449ac2cb-784c-47b6-990c-66a3f05f7ff2",
   "metadata": {
    "execution": {
     "iopub.execute_input": "2022-09-29T23:56:02.435139Z",
     "iopub.status.busy": "2022-09-29T23:56:02.434836Z",
     "iopub.status.idle": "2022-09-29T23:56:05.392801Z",
     "shell.execute_reply": "2022-09-29T23:56:05.392017Z",
     "shell.execute_reply.started": "2022-09-29T23:56:02.435060Z"
    }
   },
   "outputs": [
    {
     "name": "stdout",
     "output_type": "stream",
     "text": [
      "Looking in indexes: https://pypi.org/simple, https://pypi.ngc.nvidia.com\n",
      "Requirement already satisfied: torch in /opt/conda/lib/python3.8/site-packages (1.11.0a0+17540c5)\n",
      "Requirement already satisfied: torchvision in /opt/conda/lib/python3.8/site-packages (0.12.0a0)\n",
      "Requirement already satisfied: typing_extensions in /opt/conda/lib/python3.8/site-packages (from torch) (4.0.1)\n",
      "Requirement already satisfied: requests in /opt/conda/lib/python3.8/site-packages (from torchvision) (2.26.0)\n",
      "Requirement already satisfied: numpy in /opt/conda/lib/python3.8/site-packages (from torchvision) (1.22.2)\n",
      "Requirement already satisfied: pillow!=8.3.*,>=5.3.0 in /opt/conda/lib/python3.8/site-packages (from torchvision) (9.0.0)\n",
      "Requirement already satisfied: urllib3<1.27,>=1.21.1 in /opt/conda/lib/python3.8/site-packages (from requests->torchvision) (1.26.7)\n",
      "Requirement already satisfied: charset-normalizer~=2.0.0 in /opt/conda/lib/python3.8/site-packages (from requests->torchvision) (2.0.9)\n",
      "Requirement already satisfied: certifi>=2017.4.17 in /opt/conda/lib/python3.8/site-packages (from requests->torchvision) (2021.10.8)\n",
      "Requirement already satisfied: idna<4,>=2.5 in /opt/conda/lib/python3.8/site-packages (from requests->torchvision) (3.1)\n",
      "\u001b[33mWARNING: Running pip as the 'root' user can result in broken permissions and conflicting behaviour with the system package manager. It is recommended to use a virtual environment instead: https://pip.pypa.io/warnings/venv\u001b[0m\n"
     ]
    }
   ],
   "source": [
    "!pip install torch torchvision"
   ]
  },
  {
   "cell_type": "code",
   "execution_count": 6,
   "id": "94f0c662-cbf3-45a2-b732-4d945961c152",
   "metadata": {
    "execution": {
     "iopub.execute_input": "2022-09-30T00:04:29.258687Z",
     "iopub.status.busy": "2022-09-30T00:04:29.258425Z",
     "iopub.status.idle": "2022-09-30T00:04:29.264576Z",
     "shell.execute_reply": "2022-09-30T00:04:29.263153Z",
     "shell.execute_reply.started": "2022-09-30T00:04:29.258661Z"
    }
   },
   "outputs": [],
   "source": [
    "# prerequisites\n",
    "import torch\n",
    "import torch.nn as nn\n",
    "import torch.nn.functional as F\n",
    "import torch.optim as optim\n",
    "from torchvision import datasets, transforms\n",
    "from torch.autograd import Variable\n",
    "from torchvision.utils import save_image\n",
    "\n",
    "z_dim = 100\n",
    "device = torch.device('cuda' if torch.cuda.is_available() else 'cpu')"
   ]
  },
  {
   "cell_type": "code",
   "execution_count": 7,
   "id": "68d2e462-9b2a-468d-9355-82e36ab03ca0",
   "metadata": {
    "execution": {
     "iopub.execute_input": "2022-09-30T00:04:31.647310Z",
     "iopub.status.busy": "2022-09-30T00:04:31.646709Z",
     "iopub.status.idle": "2022-09-30T00:04:31.759900Z",
     "shell.execute_reply": "2022-09-30T00:04:31.759026Z",
     "shell.execute_reply.started": "2022-09-30T00:04:31.647273Z"
    }
   },
   "outputs": [],
   "source": [
    "bs = 100\n",
    "\n",
    "# MNIST Dataset\n",
    "transform = transforms.Compose([\n",
    "    transforms.ToTensor(),\n",
    "    transforms.Normalize(mean=(0.5), std=(0.5))])\n",
    "\n",
    "train_dataset = datasets.MNIST(root='./mnist_data/', train=True, transform=transform, download=True)\n",
    "test_dataset = datasets.MNIST(root='./mnist_data/', train=False, transform=transform, download=False)\n",
    "\n",
    "# Data Loader (Input Pipeline)\n",
    "train_loader = torch.utils.data.DataLoader(dataset=train_dataset, batch_size=bs, shuffle=True)\n",
    "test_loader = torch.utils.data.DataLoader(dataset=test_dataset, batch_size=bs, shuffle=False)"
   ]
  },
  {
   "cell_type": "code",
   "execution_count": 8,
   "id": "b82fddf5-f81c-4699-9f43-9ac5e18de113",
   "metadata": {
    "execution": {
     "iopub.execute_input": "2022-09-30T00:04:34.259169Z",
     "iopub.status.busy": "2022-09-30T00:04:34.258915Z",
     "iopub.status.idle": "2022-09-30T00:04:34.264376Z",
     "shell.execute_reply": "2022-09-30T00:04:34.263454Z",
     "shell.execute_reply.started": "2022-09-30T00:04:34.259145Z"
    }
   },
   "outputs": [
    {
     "name": "stdout",
     "output_type": "stream",
     "text": [
      "mnist_dim 784\n"
     ]
    }
   ],
   "source": [
    "mnist_dim = train_dataset.train_data.size(1) * train_dataset.train_data.size(2)\n",
    "print('mnist_dim', mnist_dim)"
   ]
  },
  {
   "cell_type": "code",
   "execution_count": 9,
   "id": "5bd8109f-641d-454d-8d1a-37b786962ead",
   "metadata": {
    "execution": {
     "iopub.execute_input": "2022-09-30T00:04:41.355340Z",
     "iopub.status.busy": "2022-09-30T00:04:41.355089Z",
     "iopub.status.idle": "2022-09-30T00:04:41.365593Z",
     "shell.execute_reply": "2022-09-30T00:04:41.365001Z",
     "shell.execute_reply.started": "2022-09-30T00:04:41.355314Z"
    }
   },
   "outputs": [],
   "source": [
    "class Generator(nn.Module):\n",
    "    def __init__(self, g_input_dim, g_output_dim):\n",
    "        super(Generator, self).__init__()       \n",
    "        self.fc1 = nn.Linear(g_input_dim, 256)\n",
    "        self.fc2 = nn.Linear(self.fc1.out_features, self.fc1.out_features*2)\n",
    "        self.fc3 = nn.Linear(self.fc2.out_features, self.fc2.out_features*2)\n",
    "        self.fc4 = nn.Linear(self.fc3.out_features, g_output_dim)\n",
    "    # forward method\n",
    "    def forward(self, x): \n",
    "        x = F.leaky_relu(self.fc1(x), 0.2)\n",
    "        x = F.leaky_relu(self.fc2(x), 0.2)\n",
    "        x = F.leaky_relu(self.fc3(x), 0.2)\n",
    "        return torch.tanh(self.fc4(x))\n",
    "    \n",
    "class Discriminator(nn.Module):\n",
    "    def __init__(self, d_input_dim):\n",
    "        super(Discriminator, self).__init__()\n",
    "        self.fc1 = nn.Linear(d_input_dim, 1024)\n",
    "        self.fc2 = nn.Linear(self.fc1.out_features, self.fc1.out_features//2)\n",
    "        self.fc3 = nn.Linear(self.fc2.out_features, self.fc2.out_features//2)\n",
    "        self.fc4 = nn.Linear(self.fc3.out_features, 1)\n",
    "    \n",
    "    # forward method\n",
    "    def forward(self, x):\n",
    "        x = F.leaky_relu(self.fc1(x), 0.2)\n",
    "        x = F.dropout(x, 0.3)\n",
    "        x = F.leaky_relu(self.fc2(x), 0.2)\n",
    "        x = F.dropout(x, 0.3)\n",
    "        x = F.leaky_relu(self.fc3(x), 0.2)\n",
    "        x = F.dropout(x, 0.3)\n",
    "        return torch.sigmoid(self.fc4(x))"
   ]
  },
  {
   "cell_type": "code",
   "execution_count": 10,
   "id": "d21a97e1-68df-49cc-a7b0-06a8aeede7f4",
   "metadata": {
    "execution": {
     "iopub.execute_input": "2022-09-30T00:04:53.243053Z",
     "iopub.status.busy": "2022-09-30T00:04:53.242803Z",
     "iopub.status.idle": "2022-09-30T00:04:53.255162Z",
     "shell.execute_reply": "2022-09-30T00:04:53.254290Z",
     "shell.execute_reply.started": "2022-09-30T00:04:53.243027Z"
    }
   },
   "outputs": [],
   "source": [
    "n_epoch = 200\n",
    "lr = 0.0002 \n",
    "\n",
    "def train():\n",
    "    # build network\n",
    "\n",
    "    G = Generator(g_input_dim = z_dim, g_output_dim = mnist_dim).to(device)\n",
    "    D = Discriminator(mnist_dim).to(device)\n",
    "    \n",
    "    # loss\n",
    "    criterion = nn.BCELoss() \n",
    "\n",
    "    # optimizer\n",
    "    G_optimizer = optim.Adam(G.parameters(), lr = lr)\n",
    "    D_optimizer = optim.Adam(D.parameters(), lr = lr)\n",
    "    \n",
    "    \n",
    "    def D_train(x):\n",
    "        #=======================Train the discriminator=======================#\n",
    "        D.zero_grad()\n",
    "\n",
    "        # train discriminator on real\n",
    "        x_real, y_real = x.view(-1, mnist_dim), torch.ones(bs, 1)\n",
    "        x_real, y_real = Variable(x_real.to(device)), Variable(y_real.to(device))\n",
    "\n",
    "        D_output = D(x_real)\n",
    "        D_real_loss = criterion(D_output, y_real)\n",
    "        D_real_score = D_output\n",
    "\n",
    "        # train discriminator on facke\n",
    "        z = Variable(torch.randn(bs, z_dim).to(device))\n",
    "        x_fake, y_fake = G(z), Variable(torch.zeros(bs, 1).to(device))\n",
    "\n",
    "        D_output = D(x_fake)\n",
    "        D_fake_loss = criterion(D_output, y_fake)\n",
    "        D_fake_score = D_output\n",
    "\n",
    "        # gradient backprop & optimize ONLY D's parameters\n",
    "        D_loss = D_real_loss + D_fake_loss\n",
    "        D_loss.backward()\n",
    "        D_optimizer.step()\n",
    "\n",
    "        return  D_loss.data.item()\n",
    "    \n",
    "    \n",
    "    def G_train(x):\n",
    "        #=======================Train the generator=======================#\n",
    "        G.zero_grad()\n",
    "\n",
    "        z = Variable(torch.randn(bs, z_dim).to(device))\n",
    "        y = Variable(torch.ones(bs, 1).to(device))\n",
    "\n",
    "        G_output = G(z)\n",
    "        D_output = D(G_output)\n",
    "        G_loss = criterion(D_output, y)\n",
    "\n",
    "        # gradient backprop & optimize ONLY G's parameters\n",
    "        G_loss.backward()\n",
    "        G_optimizer.step()\n",
    "\n",
    "        return G_loss.data.item()\n",
    "    \n",
    "    for epoch in range(1, n_epoch+1):           \n",
    "        D_losses, G_losses = [], []\n",
    "        for batch_idx, (x, _) in enumerate(train_loader):\n",
    "            D_losses.append(D_train(x))\n",
    "            G_losses.append(G_train(x))\n",
    "\n",
    "        print('[%d/%d]: loss_d: %.3f, loss_g: %.3f' % (\n",
    "                (epoch), n_epoch, torch.mean(torch.FloatTensor(D_losses)), torch.mean(torch.FloatTensor(G_losses))))\n",
    "        \n",
    "    return [G, D]"
   ]
  },
  {
   "cell_type": "code",
   "execution_count": 11,
   "id": "2bd7cb09-3c67-4ea3-8573-5c2620b495dc",
   "metadata": {
    "execution": {
     "iopub.execute_input": "2022-09-30T00:04:57.512979Z",
     "iopub.status.busy": "2022-09-30T00:04:57.512702Z",
     "iopub.status.idle": "2022-09-30T01:06:06.527801Z",
     "shell.execute_reply": "2022-09-30T01:06:06.527068Z",
     "shell.execute_reply.started": "2022-09-30T00:04:57.512952Z"
    }
   },
   "outputs": [
    {
     "name": "stdout",
     "output_type": "stream",
     "text": [
      "[1/200]: loss_d: 0.936, loss_g: 2.545\n",
      "[2/200]: loss_d: 1.145, loss_g: 1.870\n",
      "[3/200]: loss_d: 1.151, loss_g: 1.556\n",
      "[4/200]: loss_d: 0.791, loss_g: 2.136\n",
      "[5/200]: loss_d: 0.620, loss_g: 2.472\n",
      "[6/200]: loss_d: 0.585, loss_g: 2.662\n",
      "[7/200]: loss_d: 0.571, loss_g: 2.667\n",
      "[8/200]: loss_d: 0.642, loss_g: 2.449\n",
      "[9/200]: loss_d: 0.561, loss_g: 2.735\n",
      "[10/200]: loss_d: 0.684, loss_g: 2.304\n",
      "[11/200]: loss_d: 0.713, loss_g: 2.171\n",
      "[12/200]: loss_d: 0.781, loss_g: 1.960\n",
      "[13/200]: loss_d: 0.751, loss_g: 2.058\n",
      "[14/200]: loss_d: 0.689, loss_g: 2.221\n",
      "[15/200]: loss_d: 0.708, loss_g: 2.139\n",
      "[16/200]: loss_d: 0.815, loss_g: 1.903\n",
      "[17/200]: loss_d: 0.799, loss_g: 1.881\n",
      "[18/200]: loss_d: 0.809, loss_g: 1.847\n",
      "[19/200]: loss_d: 0.869, loss_g: 1.704\n",
      "[20/200]: loss_d: 0.896, loss_g: 1.643\n",
      "[21/200]: loss_d: 0.881, loss_g: 1.679\n",
      "[22/200]: loss_d: 0.895, loss_g: 1.660\n",
      "[23/200]: loss_d: 0.922, loss_g: 1.604\n",
      "[24/200]: loss_d: 0.923, loss_g: 1.597\n",
      "[25/200]: loss_d: 0.965, loss_g: 1.470\n",
      "[26/200]: loss_d: 0.978, loss_g: 1.478\n",
      "[27/200]: loss_d: 0.994, loss_g: 1.415\n",
      "[28/200]: loss_d: 1.000, loss_g: 1.405\n",
      "[29/200]: loss_d: 1.007, loss_g: 1.406\n",
      "[30/200]: loss_d: 1.017, loss_g: 1.376\n",
      "[31/200]: loss_d: 1.024, loss_g: 1.359\n",
      "[32/200]: loss_d: 1.023, loss_g: 1.356\n",
      "[33/200]: loss_d: 1.023, loss_g: 1.360\n",
      "[34/200]: loss_d: 1.031, loss_g: 1.340\n",
      "[35/200]: loss_d: 1.062, loss_g: 1.267\n",
      "[36/200]: loss_d: 1.058, loss_g: 1.296\n",
      "[37/200]: loss_d: 1.063, loss_g: 1.285\n",
      "[38/200]: loss_d: 1.073, loss_g: 1.265\n",
      "[39/200]: loss_d: 1.062, loss_g: 1.272\n",
      "[40/200]: loss_d: 1.056, loss_g: 1.284\n",
      "[41/200]: loss_d: 1.085, loss_g: 1.229\n",
      "[42/200]: loss_d: 1.109, loss_g: 1.186\n",
      "[43/200]: loss_d: 1.102, loss_g: 1.205\n",
      "[44/200]: loss_d: 1.117, loss_g: 1.175\n",
      "[45/200]: loss_d: 1.124, loss_g: 1.165\n",
      "[46/200]: loss_d: 1.124, loss_g: 1.165\n",
      "[47/200]: loss_d: 1.150, loss_g: 1.116\n",
      "[48/200]: loss_d: 1.157, loss_g: 1.102\n",
      "[49/200]: loss_d: 1.166, loss_g: 1.097\n",
      "[50/200]: loss_d: 1.169, loss_g: 1.067\n",
      "[51/200]: loss_d: 1.165, loss_g: 1.086\n",
      "[52/200]: loss_d: 1.168, loss_g: 1.081\n",
      "[53/200]: loss_d: 1.162, loss_g: 1.097\n",
      "[54/200]: loss_d: 1.169, loss_g: 1.087\n",
      "[55/200]: loss_d: 1.163, loss_g: 1.092\n",
      "[56/200]: loss_d: 1.183, loss_g: 1.058\n",
      "[57/200]: loss_d: 1.194, loss_g: 1.041\n",
      "[58/200]: loss_d: 1.191, loss_g: 1.046\n",
      "[59/200]: loss_d: 1.189, loss_g: 1.046\n",
      "[60/200]: loss_d: 1.186, loss_g: 1.063\n",
      "[61/200]: loss_d: 1.198, loss_g: 1.027\n",
      "[62/200]: loss_d: 1.202, loss_g: 1.031\n",
      "[63/200]: loss_d: 1.202, loss_g: 1.024\n",
      "[64/200]: loss_d: 1.203, loss_g: 1.033\n",
      "[65/200]: loss_d: 1.209, loss_g: 1.019\n",
      "[66/200]: loss_d: 1.203, loss_g: 1.017\n",
      "[67/200]: loss_d: 1.217, loss_g: 0.996\n",
      "[68/200]: loss_d: 1.217, loss_g: 0.996\n",
      "[69/200]: loss_d: 1.210, loss_g: 1.014\n",
      "[70/200]: loss_d: 1.209, loss_g: 1.019\n",
      "[71/200]: loss_d: 1.215, loss_g: 1.002\n",
      "[72/200]: loss_d: 1.219, loss_g: 0.991\n",
      "[73/200]: loss_d: 1.215, loss_g: 1.010\n",
      "[74/200]: loss_d: 1.217, loss_g: 0.996\n",
      "[75/200]: loss_d: 1.215, loss_g: 0.992\n",
      "[76/200]: loss_d: 1.236, loss_g: 0.966\n",
      "[77/200]: loss_d: 1.235, loss_g: 0.977\n",
      "[78/200]: loss_d: 1.225, loss_g: 0.987\n",
      "[79/200]: loss_d: 1.223, loss_g: 0.986\n",
      "[80/200]: loss_d: 1.234, loss_g: 0.965\n",
      "[81/200]: loss_d: 1.226, loss_g: 0.977\n",
      "[82/200]: loss_d: 1.234, loss_g: 0.962\n",
      "[83/200]: loss_d: 1.230, loss_g: 0.977\n",
      "[84/200]: loss_d: 1.232, loss_g: 0.964\n",
      "[85/200]: loss_d: 1.236, loss_g: 0.971\n",
      "[86/200]: loss_d: 1.233, loss_g: 0.964\n",
      "[87/200]: loss_d: 1.236, loss_g: 0.966\n",
      "[88/200]: loss_d: 1.234, loss_g: 0.981\n",
      "[89/200]: loss_d: 1.243, loss_g: 0.951\n",
      "[90/200]: loss_d: 1.238, loss_g: 0.968\n",
      "[91/200]: loss_d: 1.236, loss_g: 0.967\n",
      "[92/200]: loss_d: 1.247, loss_g: 0.947\n",
      "[93/200]: loss_d: 1.239, loss_g: 0.955\n",
      "[94/200]: loss_d: 1.241, loss_g: 0.957\n",
      "[95/200]: loss_d: 1.248, loss_g: 0.945\n",
      "[96/200]: loss_d: 1.246, loss_g: 0.944\n",
      "[97/200]: loss_d: 1.256, loss_g: 0.931\n",
      "[98/200]: loss_d: 1.256, loss_g: 0.939\n",
      "[99/200]: loss_d: 1.247, loss_g: 0.951\n",
      "[100/200]: loss_d: 1.253, loss_g: 0.942\n",
      "[101/200]: loss_d: 1.252, loss_g: 0.950\n",
      "[102/200]: loss_d: 1.253, loss_g: 0.935\n",
      "[103/200]: loss_d: 1.256, loss_g: 0.932\n",
      "[104/200]: loss_d: 1.259, loss_g: 0.923\n",
      "[105/200]: loss_d: 1.253, loss_g: 0.944\n",
      "[106/200]: loss_d: 1.261, loss_g: 0.925\n",
      "[107/200]: loss_d: 1.259, loss_g: 0.922\n",
      "[108/200]: loss_d: 1.260, loss_g: 0.926\n",
      "[109/200]: loss_d: 1.258, loss_g: 0.927\n",
      "[110/200]: loss_d: 1.263, loss_g: 0.919\n",
      "[111/200]: loss_d: 1.260, loss_g: 0.926\n",
      "[112/200]: loss_d: 1.258, loss_g: 0.927\n",
      "[113/200]: loss_d: 1.264, loss_g: 0.910\n",
      "[114/200]: loss_d: 1.264, loss_g: 0.908\n",
      "[115/200]: loss_d: 1.262, loss_g: 0.926\n",
      "[116/200]: loss_d: 1.261, loss_g: 0.919\n",
      "[117/200]: loss_d: 1.264, loss_g: 0.918\n",
      "[118/200]: loss_d: 1.261, loss_g: 0.925\n",
      "[119/200]: loss_d: 1.269, loss_g: 0.910\n",
      "[120/200]: loss_d: 1.267, loss_g: 0.909\n",
      "[121/200]: loss_d: 1.271, loss_g: 0.907\n",
      "[122/200]: loss_d: 1.271, loss_g: 0.902\n",
      "[123/200]: loss_d: 1.273, loss_g: 0.899\n",
      "[124/200]: loss_d: 1.270, loss_g: 0.906\n",
      "[125/200]: loss_d: 1.269, loss_g: 0.916\n",
      "[126/200]: loss_d: 1.263, loss_g: 0.929\n",
      "[127/200]: loss_d: 1.267, loss_g: 0.913\n",
      "[128/200]: loss_d: 1.266, loss_g: 0.905\n",
      "[129/200]: loss_d: 1.270, loss_g: 0.908\n",
      "[130/200]: loss_d: 1.271, loss_g: 0.908\n",
      "[131/200]: loss_d: 1.268, loss_g: 0.910\n",
      "[132/200]: loss_d: 1.274, loss_g: 0.906\n",
      "[133/200]: loss_d: 1.268, loss_g: 0.909\n",
      "[134/200]: loss_d: 1.267, loss_g: 0.909\n",
      "[135/200]: loss_d: 1.272, loss_g: 0.891\n",
      "[136/200]: loss_d: 1.270, loss_g: 0.909\n",
      "[137/200]: loss_d: 1.271, loss_g: 0.907\n",
      "[138/200]: loss_d: 1.264, loss_g: 0.917\n",
      "[139/200]: loss_d: 1.277, loss_g: 0.899\n",
      "[140/200]: loss_d: 1.271, loss_g: 0.908\n",
      "[141/200]: loss_d: 1.273, loss_g: 0.896\n",
      "[142/200]: loss_d: 1.275, loss_g: 0.889\n",
      "[143/200]: loss_d: 1.276, loss_g: 0.905\n",
      "[144/200]: loss_d: 1.276, loss_g: 0.911\n",
      "[145/200]: loss_d: 1.273, loss_g: 0.897\n",
      "[146/200]: loss_d: 1.275, loss_g: 0.895\n",
      "[147/200]: loss_d: 1.279, loss_g: 0.886\n",
      "[148/200]: loss_d: 1.275, loss_g: 0.903\n",
      "[149/200]: loss_d: 1.273, loss_g: 0.899\n",
      "[150/200]: loss_d: 1.274, loss_g: 0.898\n",
      "[151/200]: loss_d: 1.274, loss_g: 0.896\n",
      "[152/200]: loss_d: 1.275, loss_g: 0.895\n",
      "[153/200]: loss_d: 1.275, loss_g: 0.900\n",
      "[154/200]: loss_d: 1.275, loss_g: 0.896\n",
      "[155/200]: loss_d: 1.281, loss_g: 0.887\n",
      "[156/200]: loss_d: 1.280, loss_g: 0.885\n",
      "[157/200]: loss_d: 1.284, loss_g: 0.879\n",
      "[158/200]: loss_d: 1.284, loss_g: 0.887\n",
      "[159/200]: loss_d: 1.281, loss_g: 0.888\n",
      "[160/200]: loss_d: 1.282, loss_g: 0.883\n",
      "[161/200]: loss_d: 1.285, loss_g: 0.871\n",
      "[162/200]: loss_d: 1.282, loss_g: 0.887\n",
      "[163/200]: loss_d: 1.283, loss_g: 0.878\n",
      "[164/200]: loss_d: 1.282, loss_g: 0.880\n",
      "[165/200]: loss_d: 1.290, loss_g: 0.878\n",
      "[166/200]: loss_d: 1.278, loss_g: 0.895\n",
      "[167/200]: loss_d: 1.285, loss_g: 0.880\n",
      "[168/200]: loss_d: 1.287, loss_g: 0.870\n",
      "[169/200]: loss_d: 1.287, loss_g: 0.872\n",
      "[170/200]: loss_d: 1.283, loss_g: 0.890\n",
      "[171/200]: loss_d: 1.274, loss_g: 0.909\n",
      "[172/200]: loss_d: 1.279, loss_g: 0.887\n",
      "[173/200]: loss_d: 1.282, loss_g: 0.893\n",
      "[174/200]: loss_d: 1.283, loss_g: 0.882\n",
      "[175/200]: loss_d: 1.286, loss_g: 0.873\n",
      "[176/200]: loss_d: 1.289, loss_g: 0.867\n",
      "[177/200]: loss_d: 1.289, loss_g: 0.871\n",
      "[178/200]: loss_d: 1.290, loss_g: 0.867\n",
      "[179/200]: loss_d: 1.284, loss_g: 0.889\n",
      "[180/200]: loss_d: 1.279, loss_g: 0.878\n",
      "[181/200]: loss_d: 1.282, loss_g: 0.879\n",
      "[182/200]: loss_d: 1.287, loss_g: 0.874\n",
      "[183/200]: loss_d: 1.289, loss_g: 0.866\n",
      "[184/200]: loss_d: 1.291, loss_g: 0.873\n",
      "[185/200]: loss_d: 1.282, loss_g: 0.894\n",
      "[186/200]: loss_d: 1.287, loss_g: 0.881\n",
      "[187/200]: loss_d: 1.288, loss_g: 0.872\n",
      "[188/200]: loss_d: 1.287, loss_g: 0.876\n",
      "[189/200]: loss_d: 1.289, loss_g: 0.877\n",
      "[190/200]: loss_d: 1.286, loss_g: 0.881\n",
      "[191/200]: loss_d: 1.284, loss_g: 0.878\n",
      "[192/200]: loss_d: 1.293, loss_g: 0.862\n",
      "[193/200]: loss_d: 1.293, loss_g: 0.869\n",
      "[194/200]: loss_d: 1.292, loss_g: 0.871\n",
      "[195/200]: loss_d: 1.279, loss_g: 0.897\n",
      "[196/200]: loss_d: 1.285, loss_g: 0.879\n",
      "[197/200]: loss_d: 1.285, loss_g: 0.877\n",
      "[198/200]: loss_d: 1.285, loss_g: 0.872\n",
      "[199/200]: loss_d: 1.291, loss_g: 0.874\n",
      "[200/200]: loss_d: 1.285, loss_g: 0.880\n"
     ]
    }
   ],
   "source": [
    "G, D = train()"
   ]
  },
  {
   "cell_type": "code",
   "execution_count": 12,
   "id": "2f3df0f7-0a24-44a0-b0b1-fb7ed1be14d5",
   "metadata": {
    "execution": {
     "iopub.execute_input": "2022-09-30T01:06:15.877950Z",
     "iopub.status.busy": "2022-09-30T01:06:15.877240Z",
     "iopub.status.idle": "2022-09-30T01:06:16.133165Z",
     "shell.execute_reply": "2022-09-30T01:06:16.132273Z",
     "shell.execute_reply.started": "2022-09-30T01:06:15.877920Z"
    }
   },
   "outputs": [],
   "source": [
    "torch.save(G.state_dict(), './state_dicts/generator.pth')"
   ]
  },
  {
   "cell_type": "code",
   "execution_count": 13,
   "id": "7e910eed-a3b7-4292-b796-fc6d86a3a40e",
   "metadata": {
    "execution": {
     "iopub.execute_input": "2022-09-30T01:06:18.947671Z",
     "iopub.status.busy": "2022-09-30T01:06:18.947420Z",
     "iopub.status.idle": "2022-09-30T01:06:18.997741Z",
     "shell.execute_reply": "2022-09-30T01:06:18.997052Z",
     "shell.execute_reply.started": "2022-09-30T01:06:18.947646Z"
    }
   },
   "outputs": [],
   "source": [
    "with torch.no_grad():\n",
    "    test_z = Variable(torch.randn(1, z_dim).to(device))\n",
    "    G = Generator(g_input_dim=z_dim, g_output_dim=mnist_dim).to(device)\n",
    "    G.load_state_dict(torch.load('./state_dicts/generator.pth'))\n",
    "    generated = G(test_z)\n",
    "    save_image(generated.view(generated.size(0), 1, 28, 28), './samples/sample_gan2.png')"
   ]
  },
  {
   "cell_type": "code",
   "execution_count": 4,
   "id": "73b3ec92-5d46-4ab9-aa37-2ab35ef2907c",
   "metadata": {
    "execution": {
     "iopub.execute_input": "2022-09-29T12:25:01.938478Z",
     "iopub.status.busy": "2022-09-29T12:25:01.937854Z",
     "iopub.status.idle": "2022-09-29T12:25:05.149024Z",
     "shell.execute_reply": "2022-09-29T12:25:05.148250Z",
     "shell.execute_reply.started": "2022-09-29T12:25:01.938449Z"
    }
   },
   "outputs": [],
   "source": [
    "import random\n",
    "\n",
    "G = Generator(g_input_dim=z_dim, g_output_dim=mnist_dim).to(device)\n",
    "G.load_state_dict(torch.load('./state_dicts/generator.pth'))\n",
    "\n",
    "def gen_new_mnist():\n",
    "    id = random.randint(0, 10**5)\n",
    "    filename = f'./samples/sample_{id}.png'\n",
    "    with torch.no_grad():\n",
    "        test_z = Variable(torch.randn(1, z_dim).to(device))\n",
    "        generated = G(test_z)\n",
    "        save_image(generated.view(generated.size(0), 1, 28, 28), filename)\n",
    "    return filename"
   ]
  },
  {
   "cell_type": "code",
   "execution_count": null,
   "id": "193ddb97-e085-4d95-84a4-80dbf0bf18e9",
   "metadata": {},
   "outputs": [],
   "source": []
  },
  {
   "cell_type": "code",
   "execution_count": null,
   "id": "42f7b2ef-64d3-4fe3-9024-18e6e9fbad3e",
   "metadata": {},
   "outputs": [],
   "source": []
  },
  {
   "cell_type": "code",
   "execution_count": 26,
   "id": "98f86b84-a5d1-410c-97f6-878cb5c55233",
   "metadata": {
    "execution": {
     "iopub.execute_input": "2022-09-29T12:29:13.049975Z",
     "iopub.status.busy": "2022-09-29T12:29:13.049023Z",
     "iopub.status.idle": "2022-09-29T12:29:13.107977Z",
     "shell.execute_reply": "2022-09-29T12:29:13.107050Z",
     "shell.execute_reply.started": "2022-09-29T12:29:13.049862Z"
    }
   },
   "outputs": [
    {
     "data": {
      "image/png": "[encoded data removed]",
      "text/plain": [
       "<IPython.core.display.Image object>"
      ]
     },
     "execution_count": 26,
     "metadata": {},
     "output_type": "execute_result"
    }
   ],
   "source": [
    "from IPython.display import Image\n",
    "Image(filename=gen_new_mnist()) "
   ]
  },
  {
   "cell_type": "code",
   "execution_count": null,
   "id": "6335ae61-5958-49ce-9182-1552d1ef5b87",
   "metadata": {},
   "outputs": [],
   "source": []
  }
 ],
 "metadata": {
  "kernelspec": {
   "display_name": "Python 3 (ipykernel)",
   "language": "python",
   "name": "python3"
  },
  "language_info": {
   "codemirror_mode": {
    "name": "ipython",
    "version": 3
   },
   "file_extension": ".py",
   "mimetype": "text/x-python",
   "name": "python",
   "nbconvert_exporter": "python",
   "pygments_lexer": "ipython3",
   "version": "3.8.12"
  }
 },
 "nbformat": 4,
 "nbformat_minor": 5
}
