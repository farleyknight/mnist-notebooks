{
 "cells": [
  {
   "cell_type": "code",
   "execution_count": 68,
   "id": "5b7f9e8b-6c1f-4861-b2fa-f45377f1d225",
   "metadata": {
    "execution": {
     "iopub.execute_input": "2022-09-25T21:55:45.815964Z",
     "iopub.status.busy": "2022-09-25T21:55:45.814972Z",
     "iopub.status.idle": "2022-09-25T21:55:48.715747Z",
     "shell.execute_reply": "2022-09-25T21:55:48.714622Z",
     "shell.execute_reply.started": "2022-09-25T21:55:45.815912Z"
    }
   },
   "outputs": [
    {
     "name": "stdout",
     "output_type": "stream",
     "text": [
      "Looking in indexes: https://pypi.org/simple, https://pypi.ngc.nvidia.com\n",
      "Requirement already satisfied: torch in /opt/conda/lib/python3.8/site-packages (1.11.0a0+17540c5)\n",
      "Requirement already satisfied: torchvision in /opt/conda/lib/python3.8/site-packages (0.12.0a0)\n",
      "Requirement already satisfied: matplotlib in /opt/conda/lib/python3.8/site-packages (3.5.1)\n",
      "Requirement already satisfied: imageio in /opt/conda/lib/python3.8/site-packages (2.22.0)\n",
      "Requirement already satisfied: typing_extensions in /opt/conda/lib/python3.8/site-packages (from torch) (4.0.1)\n",
      "Requirement already satisfied: numpy in /opt/conda/lib/python3.8/site-packages (from torchvision) (1.22.2)\n",
      "Requirement already satisfied: pillow!=8.3.*,>=5.3.0 in /opt/conda/lib/python3.8/site-packages (from torchvision) (9.0.0)\n",
      "Requirement already satisfied: requests in /opt/conda/lib/python3.8/site-packages (from torchvision) (2.26.0)\n",
      "Requirement already satisfied: python-dateutil>=2.7 in /opt/conda/lib/python3.8/site-packages (from matplotlib) (2.8.2)\n",
      "Requirement already satisfied: pyparsing>=2.2.1 in /opt/conda/lib/python3.8/site-packages (from matplotlib) (3.0.7)\n",
      "Requirement already satisfied: fonttools>=4.22.0 in /opt/conda/lib/python3.8/site-packages (from matplotlib) (4.29.1)\n",
      "Requirement already satisfied: packaging>=20.0 in /opt/conda/lib/python3.8/site-packages (from matplotlib) (21.3)\n",
      "Requirement already satisfied: cycler>=0.10 in /opt/conda/lib/python3.8/site-packages (from matplotlib) (0.11.0)\n",
      "Requirement already satisfied: kiwisolver>=1.0.1 in /opt/conda/lib/python3.8/site-packages (from matplotlib) (1.3.2)\n",
      "Requirement already satisfied: six>=1.5 in /opt/conda/lib/python3.8/site-packages (from python-dateutil>=2.7->matplotlib) (1.16.0)\n",
      "Requirement already satisfied: charset-normalizer~=2.0.0 in /opt/conda/lib/python3.8/site-packages (from requests->torchvision) (2.0.9)\n",
      "Requirement already satisfied: idna<4,>=2.5 in /opt/conda/lib/python3.8/site-packages (from requests->torchvision) (3.1)\n",
      "Requirement already satisfied: certifi>=2017.4.17 in /opt/conda/lib/python3.8/site-packages (from requests->torchvision) (2021.10.8)\n",
      "Requirement already satisfied: urllib3<1.27,>=1.21.1 in /opt/conda/lib/python3.8/site-packages (from requests->torchvision) (1.26.7)\n",
      "\u001b[33mWARNING: Running pip as the 'root' user can result in broken permissions and conflicting behaviour with the system package manager. It is recommended to use a virtual environment instead: https://pip.pypa.io/warnings/venv\u001b[0m\n"
     ]
    }
   ],
   "source": [
    "!pip install torch torchvision matplotlib imageio"
   ]
  },
  {
   "cell_type": "code",
   "execution_count": 69,
   "id": "2f253bbc-1d9e-495c-9e54-52bcc6df8873",
   "metadata": {
    "execution": {
     "iopub.execute_input": "2022-09-25T21:55:48.718094Z",
     "iopub.status.busy": "2022-09-25T21:55:48.717844Z",
     "iopub.status.idle": "2022-09-25T21:55:48.725299Z",
     "shell.execute_reply": "2022-09-25T21:55:48.724178Z",
     "shell.execute_reply.started": "2022-09-25T21:55:48.718066Z"
    }
   },
   "outputs": [],
   "source": [
    "import torch\n",
    "import torch.nn as nn\n",
    "import torchvision.transforms as transforms\n",
    "import torch.optim as optim\n",
    "import torchvision.datasets as datasets\n",
    "import imageio\n",
    "import numpy as np\n",
    "import matplotlib\n",
    "\n",
    "from torchvision.utils import make_grid, save_image\n",
    "from torch.utils.data import DataLoader\n",
    "from matplotlib import pyplot as plt\n",
    "from tqdm import tqdm\n",
    "\n",
    "matplotlib.style.use('ggplot')"
   ]
  },
  {
   "cell_type": "code",
   "execution_count": 70,
   "id": "efca70a7-63dc-47dc-80c0-91ec3a7b9246",
   "metadata": {
    "execution": {
     "iopub.execute_input": "2022-09-25T21:55:48.726810Z",
     "iopub.status.busy": "2022-09-25T21:55:48.726614Z",
     "iopub.status.idle": "2022-09-25T21:55:48.734157Z",
     "shell.execute_reply": "2022-09-25T21:55:48.732673Z",
     "shell.execute_reply.started": "2022-09-25T21:55:48.726785Z"
    }
   },
   "outputs": [],
   "source": [
    "# learning parameters\n",
    "batch_size = 512\n",
    "epochs = 200\n",
    "sample_size = 64 # fixed sample size\n",
    "nz = 128 # latent vector size\n",
    "k = 1 # number of steps to apply to the discriminator\n",
    "device = torch.device('cuda' if torch.cuda.is_available() else 'cpu')"
   ]
  },
  {
   "cell_type": "code",
   "execution_count": 71,
   "id": "69db4205-8f43-4d16-992f-f5c63134822b",
   "metadata": {
    "execution": {
     "iopub.execute_input": "2022-09-25T21:55:48.735743Z",
     "iopub.status.busy": "2022-09-25T21:55:48.735528Z",
     "iopub.status.idle": "2022-09-25T21:55:48.740558Z",
     "shell.execute_reply": "2022-09-25T21:55:48.739658Z",
     "shell.execute_reply.started": "2022-09-25T21:55:48.735716Z"
    }
   },
   "outputs": [],
   "source": [
    "transform = transforms.Compose([\n",
    "                                transforms.ToTensor(),\n",
    "                                transforms.Normalize((0.5,),(0.5,)),\n",
    "])\n",
    "to_pil_image = transforms.ToPILImage()"
   ]
  },
  {
   "cell_type": "code",
   "execution_count": 72,
   "id": "3de52f0f-b6eb-429b-8964-75d0871711f2",
   "metadata": {
    "execution": {
     "iopub.execute_input": "2022-09-25T21:55:48.743011Z",
     "iopub.status.busy": "2022-09-25T21:55:48.742740Z",
     "iopub.status.idle": "2022-09-25T21:55:48.832750Z",
     "shell.execute_reply": "2022-09-25T21:55:48.831831Z",
     "shell.execute_reply.started": "2022-09-25T21:55:48.742976Z"
    }
   },
   "outputs": [],
   "source": [
    "train_data = datasets.MNIST(\n",
    "    root='../input/data',\n",
    "    train=True,\n",
    "    download=True,\n",
    "    transform=transform\n",
    ")\n",
    "train_loader = DataLoader(train_data, batch_size=batch_size, shuffle=True)\n"
   ]
  },
  {
   "cell_type": "code",
   "execution_count": 73,
   "id": "0d2adc40-c6c3-40f9-ae47-8b8f9ba59d8f",
   "metadata": {
    "execution": {
     "iopub.execute_input": "2022-09-25T21:55:48.834297Z",
     "iopub.status.busy": "2022-09-25T21:55:48.834050Z",
     "iopub.status.idle": "2022-09-25T21:55:48.840881Z",
     "shell.execute_reply": "2022-09-25T21:55:48.839992Z",
     "shell.execute_reply.started": "2022-09-25T21:55:48.834268Z"
    }
   },
   "outputs": [],
   "source": [
    "class Generator(nn.Module):\n",
    "    def __init__(self, nz):\n",
    "        super(Generator, self).__init__()\n",
    "        self.nz = nz\n",
    "        self.main = nn.Sequential(\n",
    "            nn.Linear(self.nz, 256),\n",
    "            nn.LeakyReLU(0.2),\n",
    "            nn.Linear(256, 512),\n",
    "            nn.LeakyReLU(0.2),\n",
    "            nn.Linear(512, 1024),\n",
    "            nn.LeakyReLU(0.2),\n",
    "            nn.Linear(1024, 784),\n",
    "            nn.Tanh(),\n",
    "        )\n",
    "    def forward(self, x):\n",
    "        return self.main(x).view(-1, 1, 28, 28)"
   ]
  },
  {
   "cell_type": "code",
   "execution_count": 74,
   "id": "ed784592-8818-4666-b34a-721cbb4fa333",
   "metadata": {
    "execution": {
     "iopub.execute_input": "2022-09-25T21:55:48.842894Z",
     "iopub.status.busy": "2022-09-25T21:55:48.842489Z",
     "iopub.status.idle": "2022-09-25T21:55:48.849672Z",
     "shell.execute_reply": "2022-09-25T21:55:48.849049Z",
     "shell.execute_reply.started": "2022-09-25T21:55:48.842853Z"
    }
   },
   "outputs": [],
   "source": [
    "class Discriminator(nn.Module):\n",
    "    def __init__(self):\n",
    "        super(Discriminator, self).__init__()\n",
    "        self.n_input = 784\n",
    "        self.main = nn.Sequential(\n",
    "            nn.Linear(self.n_input, 1024),\n",
    "            nn.LeakyReLU(0.2),\n",
    "            nn.Dropout(0.3),\n",
    "            nn.Linear(1024, 512),\n",
    "            nn.LeakyReLU(0.2),\n",
    "            nn.Dropout(0.3),\n",
    "            nn.Linear(512, 256),\n",
    "            nn.LeakyReLU(0.2),\n",
    "            nn.Dropout(0.3),\n",
    "            nn.Linear(256, 1),\n",
    "            nn.Sigmoid(),\n",
    "        )\n",
    "    def forward(self, x):\n",
    "        x = x.view(-1, 784)\n",
    "        return self.main(x)"
   ]
  },
  {
   "cell_type": "code",
   "execution_count": 75,
   "id": "c8d788f1-cd3b-45b2-bc80-4d744773991c",
   "metadata": {
    "execution": {
     "iopub.execute_input": "2022-09-25T21:55:48.851600Z",
     "iopub.status.busy": "2022-09-25T21:55:48.851052Z",
     "iopub.status.idle": "2022-09-25T21:55:48.904503Z",
     "shell.execute_reply": "2022-09-25T21:55:48.903630Z",
     "shell.execute_reply.started": "2022-09-25T21:55:48.851573Z"
    }
   },
   "outputs": [
    {
     "name": "stdout",
     "output_type": "stream",
     "text": [
      "##### GENERATOR #####\n",
      "Generator(\n",
      "  (main): Sequential(\n",
      "    (0): Linear(in_features=128, out_features=256, bias=True)\n",
      "    (1): LeakyReLU(negative_slope=0.2)\n",
      "    (2): Linear(in_features=256, out_features=512, bias=True)\n",
      "    (3): LeakyReLU(negative_slope=0.2)\n",
      "    (4): Linear(in_features=512, out_features=1024, bias=True)\n",
      "    (5): LeakyReLU(negative_slope=0.2)\n",
      "    (6): Linear(in_features=1024, out_features=784, bias=True)\n",
      "    (7): Tanh()\n",
      "  )\n",
      ")\n",
      "######################\n",
      "\n",
      "##### DISCRIMINATOR #####\n",
      "Discriminator(\n",
      "  (main): Sequential(\n",
      "    (0): Linear(in_features=784, out_features=1024, bias=True)\n",
      "    (1): LeakyReLU(negative_slope=0.2)\n",
      "    (2): Dropout(p=0.3, inplace=False)\n",
      "    (3): Linear(in_features=1024, out_features=512, bias=True)\n",
      "    (4): LeakyReLU(negative_slope=0.2)\n",
      "    (5): Dropout(p=0.3, inplace=False)\n",
      "    (6): Linear(in_features=512, out_features=256, bias=True)\n",
      "    (7): LeakyReLU(negative_slope=0.2)\n",
      "    (8): Dropout(p=0.3, inplace=False)\n",
      "    (9): Linear(in_features=256, out_features=1, bias=True)\n",
      "    (10): Sigmoid()\n",
      "  )\n",
      ")\n",
      "######################\n"
     ]
    }
   ],
   "source": [
    "generator = Generator(nz).to(device)\n",
    "discriminator = Discriminator().to(device)\n",
    "print('##### GENERATOR #####')\n",
    "print(generator)\n",
    "print('######################')\n",
    "print('\\n##### DISCRIMINATOR #####')\n",
    "print(discriminator)\n",
    "print('######################')"
   ]
  },
  {
   "cell_type": "code",
   "execution_count": 76,
   "id": "87090bf8-9420-4b9e-bd0a-c6a28f1e0650",
   "metadata": {
    "execution": {
     "iopub.execute_input": "2022-09-25T21:55:48.926671Z",
     "iopub.status.busy": "2022-09-25T21:55:48.926108Z",
     "iopub.status.idle": "2022-09-25T21:55:48.937572Z",
     "shell.execute_reply": "2022-09-25T21:55:48.936821Z",
     "shell.execute_reply.started": "2022-09-25T21:55:48.926632Z"
    }
   },
   "outputs": [],
   "source": [
    "# optimizers\n",
    "optim_g = optim.Adam(generator.parameters(), lr=0.0002)\n",
    "optim_d = optim.Adam(discriminator.parameters(), lr=0.0002)\n",
    "\n",
    "# loss function\n",
    "criterion = nn.BCELoss()\n",
    "\n",
    "# losses\n",
    "losses_g = [] # to store generator loss after each epoch\n",
    "losses_d = [] # to store discriminator loss after each epoch\n",
    "images = [] # to store images generatd by the generator"
   ]
  },
  {
   "cell_type": "code",
   "execution_count": 77,
   "id": "222b119d-182c-4fb8-ae41-993013f8813b",
   "metadata": {
    "execution": {
     "iopub.execute_input": "2022-09-25T21:55:48.939292Z",
     "iopub.status.busy": "2022-09-25T21:55:48.938832Z",
     "iopub.status.idle": "2022-09-25T21:55:48.951325Z",
     "shell.execute_reply": "2022-09-25T21:55:48.950414Z",
     "shell.execute_reply.started": "2022-09-25T21:55:48.939264Z"
    }
   },
   "outputs": [],
   "source": [
    "# to create real labels (1s)\n",
    "def label_real(size):\n",
    "    data = torch.ones(size, 1)\n",
    "    return data.to(device)\n",
    "# to create fake labels (0s)\n",
    "def label_fake(size):\n",
    "    data = torch.zeros(size, 1)\n",
    "    return data.to(device)\n",
    "\n",
    "# function to create the noise vector\n",
    "def create_noise(sample_size, nz):\n",
    "    return torch.randn(sample_size, nz).to(device)\n",
    "\n",
    "# to save the images generated by the generator\n",
    "def save_generator_image(image, path):\n",
    "    save_image(image, path)"
   ]
  },
  {
   "cell_type": "code",
   "execution_count": 78,
   "id": "91b48ca8-09d3-4c38-84a7-7533b02a46cb",
   "metadata": {
    "execution": {
     "iopub.execute_input": "2022-09-25T21:55:48.953404Z",
     "iopub.status.busy": "2022-09-25T21:55:48.952954Z",
     "iopub.status.idle": "2022-09-25T21:55:48.959719Z",
     "shell.execute_reply": "2022-09-25T21:55:48.958779Z",
     "shell.execute_reply.started": "2022-09-25T21:55:48.953369Z"
    }
   },
   "outputs": [],
   "source": [
    "# function to train the discriminator network\n",
    "def train_discriminator(optimizer, data_real, data_fake):\n",
    "    b_size = data_real.size(0)\n",
    "    real_label = label_real(b_size)\n",
    "    fake_label = label_fake(b_size)\n",
    "    optimizer.zero_grad()\n",
    "    output_real = discriminator(data_real)\n",
    "    loss_real = criterion(output_real, real_label)\n",
    "    output_fake = discriminator(data_fake)\n",
    "    loss_fake = criterion(output_fake, fake_label)\n",
    "    loss_real.backward()\n",
    "    loss_fake.backward()\n",
    "    optimizer.step()\n",
    "    return loss_real + loss_fake"
   ]
  },
  {
   "cell_type": "code",
   "execution_count": 79,
   "id": "df8f7b00-67dc-4840-a4dd-7d112f4bb938",
   "metadata": {
    "execution": {
     "iopub.execute_input": "2022-09-25T21:55:48.961737Z",
     "iopub.status.busy": "2022-09-25T21:55:48.961431Z",
     "iopub.status.idle": "2022-09-25T21:55:48.966757Z",
     "shell.execute_reply": "2022-09-25T21:55:48.966008Z",
     "shell.execute_reply.started": "2022-09-25T21:55:48.961711Z"
    }
   },
   "outputs": [],
   "source": [
    "# function to train the generator network\n",
    "def train_generator(optimizer, data_fake):\n",
    "    b_size = data_fake.size(0)\n",
    "    real_label = label_real(b_size)\n",
    "    optimizer.zero_grad()\n",
    "    output = discriminator(data_fake)\n",
    "    loss = criterion(output, real_label)\n",
    "    loss.backward()\n",
    "    optimizer.step()\n",
    "    return loss"
   ]
  },
  {
   "cell_type": "code",
   "execution_count": 80,
   "id": "67b40fb4-dda8-4363-997c-f753e328383a",
   "metadata": {
    "execution": {
     "iopub.execute_input": "2022-09-25T21:55:48.969933Z",
     "iopub.status.busy": "2022-09-25T21:55:48.968719Z",
     "iopub.status.idle": "2022-09-25T21:55:48.982663Z",
     "shell.execute_reply": "2022-09-25T21:55:48.982037Z",
     "shell.execute_reply.started": "2022-09-25T21:55:48.969903Z"
    }
   },
   "outputs": [
    {
     "data": {
      "text/plain": [
       "Discriminator(\n",
       "  (main): Sequential(\n",
       "    (0): Linear(in_features=784, out_features=1024, bias=True)\n",
       "    (1): LeakyReLU(negative_slope=0.2)\n",
       "    (2): Dropout(p=0.3, inplace=False)\n",
       "    (3): Linear(in_features=1024, out_features=512, bias=True)\n",
       "    (4): LeakyReLU(negative_slope=0.2)\n",
       "    (5): Dropout(p=0.3, inplace=False)\n",
       "    (6): Linear(in_features=512, out_features=256, bias=True)\n",
       "    (7): LeakyReLU(negative_slope=0.2)\n",
       "    (8): Dropout(p=0.3, inplace=False)\n",
       "    (9): Linear(in_features=256, out_features=1, bias=True)\n",
       "    (10): Sigmoid()\n",
       "  )\n",
       ")"
      ]
     },
     "execution_count": 80,
     "metadata": {},
     "output_type": "execute_result"
    }
   ],
   "source": [
    "# create the noise vector\n",
    "noise = create_noise(sample_size, nz)\n",
    "generator.train()\n",
    "discriminator.train()"
   ]
  },
  {
   "cell_type": "code",
   "execution_count": 81,
   "id": "33d42d21-cef2-4166-95ef-1963a82e810b",
   "metadata": {
    "execution": {
     "iopub.execute_input": "2022-09-25T21:55:48.985476Z",
     "iopub.status.busy": "2022-09-25T21:55:48.985004Z",
     "iopub.status.idle": "2022-09-25T21:55:49.990291Z",
     "shell.execute_reply": "2022-09-25T21:55:49.989584Z",
     "shell.execute_reply.started": "2022-09-25T21:55:48.985442Z"
    }
   },
   "outputs": [
    {
     "name": "stdout",
     "output_type": "stream",
     "text": [
      "total 4169\n",
      "drwxr-xr-x 5 root root       8 Sep 25 21:55 .\n",
      "drwxr-xr-x 8 root root      13 Sep 25 21:44 ..\n",
      "drwxr-xr-x 2 root root       2 Sep 25 21:28 .ipynb_checkpoints\n",
      "-rw-r--r-- 1 root root   33026 Sep 23 16:02 MNIST-Digit-Classification_using_run_img_cls.ipynb\n",
      "-rw-r--r-- 1 root root  169272 Sep 23 18:10 MNIST-Full-Data-Analysis.ipynb\n",
      "-rw-r--r-- 1 root root   21706 Sep 25 21:55 MNIST-Generative_Adversarial_Networks.ipynb\n",
      "-rw-r--r-- 1 root root   62198 Sep 23 16:02 Roman-Numeral-Classification_using_run_img_cls.ipynb\n",
      "-rw-r--r-- 1 root root 3980882 Sep 13 23:52 TSNE_On_MNIST.ipynb\n",
      "drwxr-xr-x 3 root root       1 Sep 25 21:39 mnist_data\n",
      "drwxr-xr-x 4 root root       2 Sep 25 21:55 mnist_gans\n"
     ]
    }
   ],
   "source": [
    "!mkdir -p mnist_gans/outputs\n",
    "!ls -la"
   ]
  },
  {
   "cell_type": "code",
   "execution_count": null,
   "id": "6b127ca2-2638-4c00-bdcc-f83c9eada3e6",
   "metadata": {
    "execution": {
     "iopub.execute_input": "2022-09-25T21:55:49.992055Z",
     "iopub.status.busy": "2022-09-25T21:55:49.991779Z"
    }
   },
   "outputs": [
    {
     "name": "stderr",
     "output_type": "stream",
     "text": [
      "118it [00:15,  7.60it/s]                         \n"
     ]
    },
    {
     "name": "stdout",
     "output_type": "stream",
     "text": [
      "Epoch 0 of 200\n",
      "Generator loss: 1.32530153, Discriminator loss: 0.93339187\n"
     ]
    },
    {
     "name": "stderr",
     "output_type": "stream",
     "text": [
      "118it [00:15,  7.43it/s]                         \n"
     ]
    },
    {
     "name": "stdout",
     "output_type": "stream",
     "text": [
      "Epoch 1 of 200\n",
      "Generator loss: 2.10442781, Discriminator loss: 1.24310565\n"
     ]
    },
    {
     "name": "stderr",
     "output_type": "stream",
     "text": [
      "118it [00:15,  7.50it/s]                         \n"
     ]
    },
    {
     "name": "stdout",
     "output_type": "stream",
     "text": [
      "Epoch 2 of 200\n",
      "Generator loss: 3.32916188, Discriminator loss: 0.84761894\n"
     ]
    },
    {
     "name": "stderr",
     "output_type": "stream",
     "text": [
      "118it [00:15,  7.53it/s]                         \n"
     ]
    },
    {
     "name": "stdout",
     "output_type": "stream",
     "text": [
      "Epoch 3 of 200\n",
      "Generator loss: 2.71348262, Discriminator loss: 1.01204181\n"
     ]
    },
    {
     "name": "stderr",
     "output_type": "stream",
     "text": [
      "118it [00:15,  7.67it/s]                         \n"
     ]
    },
    {
     "name": "stdout",
     "output_type": "stream",
     "text": [
      "Epoch 4 of 200\n",
      "Generator loss: 2.28597641, Discriminator loss: 1.26122856\n"
     ]
    },
    {
     "name": "stderr",
     "output_type": "stream",
     "text": [
      "118it [00:16,  7.37it/s]                         \n"
     ]
    },
    {
     "name": "stdout",
     "output_type": "stream",
     "text": [
      "Epoch 5 of 200\n",
      "Generator loss: 1.37975395, Discriminator loss: 1.04801834\n"
     ]
    },
    {
     "name": "stderr",
     "output_type": "stream",
     "text": [
      "118it [00:16,  7.35it/s]                         \n"
     ]
    },
    {
     "name": "stdout",
     "output_type": "stream",
     "text": [
      "Epoch 6 of 200\n",
      "Generator loss: 1.22216094, Discriminator loss: 1.09545517\n"
     ]
    },
    {
     "name": "stderr",
     "output_type": "stream",
     "text": [
      "118it [00:15,  7.51it/s]                         \n"
     ]
    },
    {
     "name": "stdout",
     "output_type": "stream",
     "text": [
      "Epoch 7 of 200\n",
      "Generator loss: 1.34024346, Discriminator loss: 1.28265405\n"
     ]
    },
    {
     "name": "stderr",
     "output_type": "stream",
     "text": [
      "118it [00:16,  7.31it/s]                         \n"
     ]
    },
    {
     "name": "stdout",
     "output_type": "stream",
     "text": [
      "Epoch 8 of 200\n",
      "Generator loss: 1.25383067, Discriminator loss: 1.13575017\n"
     ]
    },
    {
     "name": "stderr",
     "output_type": "stream",
     "text": [
      "118it [00:16,  7.30it/s]                         \n"
     ]
    },
    {
     "name": "stdout",
     "output_type": "stream",
     "text": [
      "Epoch 9 of 200\n",
      "Generator loss: 1.17950213, Discriminator loss: 1.07224154\n"
     ]
    },
    {
     "name": "stderr",
     "output_type": "stream",
     "text": [
      "118it [00:16,  7.22it/s]                         \n"
     ]
    },
    {
     "name": "stdout",
     "output_type": "stream",
     "text": [
      "Epoch 10 of 200\n",
      "Generator loss: 1.52006304, Discriminator loss: 1.24278867\n"
     ]
    },
    {
     "name": "stderr",
     "output_type": "stream",
     "text": [
      "118it [00:16,  7.26it/s]                         \n"
     ]
    },
    {
     "name": "stdout",
     "output_type": "stream",
     "text": [
      "Epoch 11 of 200\n",
      "Generator loss: 1.21575439, Discriminator loss: 1.21784937\n"
     ]
    },
    {
     "name": "stderr",
     "output_type": "stream",
     "text": [
      "118it [00:16,  7.37it/s]                         \n"
     ]
    },
    {
     "name": "stdout",
     "output_type": "stream",
     "text": [
      "Epoch 12 of 200\n",
      "Generator loss: 1.58386827, Discriminator loss: 1.17667413\n"
     ]
    },
    {
     "name": "stderr",
     "output_type": "stream",
     "text": [
      "118it [00:16,  7.24it/s]                         \n"
     ]
    },
    {
     "name": "stdout",
     "output_type": "stream",
     "text": [
      "Epoch 13 of 200\n",
      "Generator loss: 1.92653215, Discriminator loss: 1.29030228\n"
     ]
    },
    {
     "name": "stderr",
     "output_type": "stream",
     "text": [
      "118it [00:16,  7.14it/s]                         \n"
     ]
    },
    {
     "name": "stdout",
     "output_type": "stream",
     "text": [
      "Epoch 14 of 200\n",
      "Generator loss: 2.03188300, Discriminator loss: 1.09004402\n"
     ]
    },
    {
     "name": "stderr",
     "output_type": "stream",
     "text": [
      "118it [00:16,  7.21it/s]                         \n"
     ]
    },
    {
     "name": "stdout",
     "output_type": "stream",
     "text": [
      "Epoch 15 of 200\n",
      "Generator loss: 1.07607806, Discriminator loss: 1.14402461\n"
     ]
    },
    {
     "name": "stderr",
     "output_type": "stream",
     "text": [
      "118it [00:16,  7.29it/s]                         \n"
     ]
    },
    {
     "name": "stdout",
     "output_type": "stream",
     "text": [
      "Epoch 16 of 200\n",
      "Generator loss: 1.11665690, Discriminator loss: 1.16225696\n"
     ]
    },
    {
     "name": "stderr",
     "output_type": "stream",
     "text": [
      "118it [00:16,  7.33it/s]                         \n"
     ]
    },
    {
     "name": "stdout",
     "output_type": "stream",
     "text": [
      "Epoch 17 of 200\n",
      "Generator loss: 2.14706659, Discriminator loss: 0.82187754\n"
     ]
    },
    {
     "name": "stderr",
     "output_type": "stream",
     "text": [
      "118it [00:16,  7.10it/s]                         \n"
     ]
    },
    {
     "name": "stdout",
     "output_type": "stream",
     "text": [
      "Epoch 18 of 200\n",
      "Generator loss: 1.44348812, Discriminator loss: 1.13707221\n"
     ]
    },
    {
     "name": "stderr",
     "output_type": "stream",
     "text": [
      "118it [00:16,  7.29it/s]                         \n"
     ]
    },
    {
     "name": "stdout",
     "output_type": "stream",
     "text": [
      "Epoch 19 of 200\n",
      "Generator loss: 1.55810404, Discriminator loss: 1.26635599\n"
     ]
    },
    {
     "name": "stderr",
     "output_type": "stream",
     "text": [
      "118it [00:16,  7.28it/s]                         \n"
     ]
    },
    {
     "name": "stdout",
     "output_type": "stream",
     "text": [
      "Epoch 20 of 200\n",
      "Generator loss: 1.37957549, Discriminator loss: 1.02946413\n"
     ]
    },
    {
     "name": "stderr",
     "output_type": "stream",
     "text": [
      "118it [00:16,  7.17it/s]                         \n"
     ]
    },
    {
     "name": "stdout",
     "output_type": "stream",
     "text": [
      "Epoch 21 of 200\n",
      "Generator loss: 1.36409819, Discriminator loss: 1.10331619\n"
     ]
    },
    {
     "name": "stderr",
     "output_type": "stream",
     "text": [
      "118it [00:16,  7.30it/s]                         \n"
     ]
    },
    {
     "name": "stdout",
     "output_type": "stream",
     "text": [
      "Epoch 22 of 200\n",
      "Generator loss: 1.32062542, Discriminator loss: 1.00502944\n"
     ]
    },
    {
     "name": "stderr",
     "output_type": "stream",
     "text": [
      "118it [00:16,  7.19it/s]                         \n"
     ]
    },
    {
     "name": "stdout",
     "output_type": "stream",
     "text": [
      "Epoch 23 of 200\n",
      "Generator loss: 2.09034538, Discriminator loss: 0.84948105\n"
     ]
    },
    {
     "name": "stderr",
     "output_type": "stream",
     "text": [
      "118it [00:16,  7.22it/s]                         \n"
     ]
    },
    {
     "name": "stdout",
     "output_type": "stream",
     "text": [
      "Epoch 24 of 200\n",
      "Generator loss: 1.55064034, Discriminator loss: 1.09854949\n"
     ]
    },
    {
     "name": "stderr",
     "output_type": "stream",
     "text": [
      "118it [00:16,  7.12it/s]                         \n"
     ]
    },
    {
     "name": "stdout",
     "output_type": "stream",
     "text": [
      "Epoch 25 of 200\n",
      "Generator loss: 2.19465947, Discriminator loss: 0.68284982\n"
     ]
    },
    {
     "name": "stderr",
     "output_type": "stream",
     "text": [
      "118it [00:16,  7.07it/s]                         \n"
     ]
    },
    {
     "name": "stdout",
     "output_type": "stream",
     "text": [
      "Epoch 26 of 200\n",
      "Generator loss: 2.37272167, Discriminator loss: 0.82395840\n"
     ]
    },
    {
     "name": "stderr",
     "output_type": "stream",
     "text": [
      "118it [00:16,  7.17it/s]                         \n"
     ]
    },
    {
     "name": "stdout",
     "output_type": "stream",
     "text": [
      "Epoch 27 of 200\n",
      "Generator loss: 1.91850281, Discriminator loss: 0.70356065\n"
     ]
    },
    {
     "name": "stderr",
     "output_type": "stream",
     "text": [
      "118it [00:16,  7.11it/s]                         \n"
     ]
    },
    {
     "name": "stdout",
     "output_type": "stream",
     "text": [
      "Epoch 28 of 200\n",
      "Generator loss: 2.80933928, Discriminator loss: 0.68774289\n"
     ]
    },
    {
     "name": "stderr",
     "output_type": "stream",
     "text": [
      "118it [00:16,  7.15it/s]                         \n"
     ]
    },
    {
     "name": "stdout",
     "output_type": "stream",
     "text": [
      "Epoch 29 of 200\n",
      "Generator loss: 2.31559014, Discriminator loss: 0.57359570\n"
     ]
    },
    {
     "name": "stderr",
     "output_type": "stream",
     "text": [
      " 77%|███████▋  | 90/117 [00:12<00:03,  6.91it/s]"
     ]
    }
   ],
   "source": [
    "for epoch in range(epochs):\n",
    "    loss_g = 0.0\n",
    "    loss_d = 0.0\n",
    "    for bi, data in tqdm(enumerate(train_loader), total=int(len(train_data)/train_loader.batch_size)):\n",
    "        image, _ = data\n",
    "        image = image.to(device)\n",
    "        b_size = len(image)\n",
    "        # run the discriminator for k number of steps\n",
    "        for step in range(k):\n",
    "            data_fake = generator(create_noise(b_size, nz)).detach()\n",
    "            data_real = image\n",
    "            # train the discriminator network\n",
    "            loss_d += train_discriminator(optim_d, data_real, data_fake)\n",
    "        data_fake = generator(create_noise(b_size, nz))\n",
    "        # train the generator network\n",
    "        loss_g += train_generator(optim_g, data_fake)\n",
    "    # create the final fake image for the epoch\n",
    "    generated_img = generator(noise).cpu().detach()\n",
    "    # make the images as grid\n",
    "    generated_img = make_grid(generated_img)\n",
    "    # save the generated torch tensor models to disk\n",
    "    save_generator_image(generated_img, f\"mnist_gans/outputs/gen_img{epoch}.png\")\n",
    "    images.append(generated_img)\n",
    "    epoch_loss_g = loss_g / bi # total generator loss for the epoch\n",
    "    epoch_loss_d = loss_d / bi # total discriminator loss for the epoch\n",
    "    losses_g.append(epoch_loss_g)\n",
    "    losses_d.append(epoch_loss_d)\n",
    "    \n",
    "    print(f\"Epoch {epoch} of {epochs}\")\n",
    "    print(f\"Generator loss: {epoch_loss_g:.8f}, Discriminator loss: {epoch_loss_d:.8f}\")"
   ]
  },
  {
   "cell_type": "code",
   "execution_count": null,
   "id": "eb8fc35b-5e5b-46bc-9443-e954d71ddbc7",
   "metadata": {},
   "outputs": [],
   "source": [
    "print('DONE TRAINING')\n",
    "torch.save(generator.state_dict(), 'mnist_gans/outputs/generator.pth')\n",
    "\n",
    "# save the generated images as GIF file\n",
    "imgs = [np.array(to_pil_image(img)) for img in images]\n",
    "imageio.mimsave('mnist_gans/outputs/generator_images.gif', imgs)\n",
    "\n",
    "# plot and save the generator and discriminator loss\n",
    "plt.figure()\n",
    "plt.plot(losses_g, label='Generator loss')\n",
    "plt.plot(losses_d, label='Discriminator Loss')\n",
    "plt.legend()\n",
    "plt.savefig('mnist_gans/outputs/loss.png')"
   ]
  }
 ],
 "metadata": {
  "kernelspec": {
   "display_name": "Python 3 (ipykernel)",
   "language": "python",
   "name": "python3"
  },
  "language_info": {
   "codemirror_mode": {
    "name": "ipython",
    "version": 3
   },
   "file_extension": ".py",
   "mimetype": "text/x-python",
   "name": "python",
   "nbconvert_exporter": "python",
   "pygments_lexer": "ipython3",
   "version": "3.8.12"
  }
 },
 "nbformat": 4,
 "nbformat_minor": 5
}
