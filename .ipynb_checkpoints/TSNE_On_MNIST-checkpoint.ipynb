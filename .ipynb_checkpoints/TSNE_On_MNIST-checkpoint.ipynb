{
 "cells": [
  {
   "cell_type": "code",
   "execution_count": 1,
   "id": "70dbcd07-f6ea-479e-8966-a50c1e3a9ed4",
   "metadata": {
    "tags": []
   },
   "outputs": [
    {
     "name": "stdout",
     "output_type": "stream",
     "text": [
      "\u001b[33mWARNING: Running pip as the 'root' user can result in broken permissions and conflicting behaviour with the system package manager. It is recommended to use a virtual environment instead: https://pip.pypa.io/warnings/venv\u001b[0m\n"
     ]
    }
   ],
   "source": [
    "!pip install ipywidgets --upgrade --quiet"
   ]
  },
  {
   "cell_type": "code",
   "execution_count": 2,
   "id": "ba5e6e55-fb85-46c5-b8f6-725356102fb7",
   "metadata": {
    "tags": []
   },
   "outputs": [
    {
     "name": "stdout",
     "output_type": "stream",
     "text": [
      "\u001b[33mWARNING: Running pip as the 'root' user can result in broken permissions and conflicting behaviour with the system package manager. It is recommended to use a virtual environment instead: https://pip.pypa.io/warnings/venv\u001b[0m\n",
      "\u001b[33mWARNING: Running pip as the 'root' user can result in broken permissions and conflicting behaviour with the system package manager. It is recommended to use a virtual environment instead: https://pip.pypa.io/warnings/venv\u001b[0m\n",
      "env: DEBIAN_FRONTEND=noninteractive\n",
      "Reading package lists... Done\n",
      "Building dependency tree       \n",
      "Reading state information... Done\n",
      "nodejs is already the newest version (10.19.0~dfsg-3ubuntu1).\n",
      "0 upgraded, 0 newly installed, 0 to remove and 28 not upgraded.\n",
      "yes: standard output: Broken pipe\n"
     ]
    }
   ],
   "source": [
    "!pip install jupyterlab --upgrade --quiet\n",
    "!pip install ipympl --upgrade --quiet\n",
    "\n",
    "%env DEBIAN_FRONTEND=noninteractive\n",
    "!yes | apt-get install nodejs"
   ]
  },
  {
   "cell_type": "code",
   "execution_count": 3,
   "id": "39570055-87e2-4f74-ba9e-5c8f9392b4f9",
   "metadata": {},
   "outputs": [
    {
     "name": "stdout",
     "output_type": "stream",
     "text": [
      "Collecting package metadata (current_repodata.json): done\n",
      "Solving environment: done\n",
      "\n",
      "# All requested packages already installed.\n",
      "\n",
      "Retrieving notices: ...working... done\n",
      "yes: standard output: Broken pipe\n",
      "\u001b[33mWARNING: Running pip as the 'root' user can result in broken permissions and conflicting behaviour with the system package manager. It is recommended to use a virtual environment instead: https://pip.pypa.io/warnings/venv\u001b[0m\n"
     ]
    }
   ],
   "source": [
    "!yes | conda install -c conda-forge nodejs\n",
    "!pip install ipywidgets --upgrade  --quiet"
   ]
  },
  {
   "cell_type": "code",
   "execution_count": 4,
   "id": "fbb122c4-adf4-47bb-82eb-b82ef71ccd2d",
   "metadata": {},
   "outputs": [
    {
     "name": "stdout",
     "output_type": "stream",
     "text": [
      "No compatible version found for jupyterlab-jupytext!\n",
      "No compatible version found for jupyterlab_tensorboard!\n"
     ]
    }
   ],
   "source": [
    "!pip install plotly"
   ]
  },
  {
   "cell_type": "code",
   "execution_count": 5,
   "id": "17c4a583-9537-433e-aa0e-875bdbd8b235",
   "metadata": {},
   "outputs": [
    {
     "name": "stdout",
     "output_type": "stream",
     "text": []
    },
    {
     "name": "stdout",
     "output_type": "stream",
     "text": []
    },
    {
     "name": "stdout",
     "output_type": "stream",
     "text": [
      "Building jupyterlab assets (production, minimized)\n",
      "The extension \"jupyterlab_tensorboard\" is outdated.\n",
      "\n",
      "The extension \"jupyterlab-jupytext\" is outdated.\n",
      "\n",
      "-^C\n",
      "\bTraceback (most recent call last):\n",
      "  File \"/opt/conda/bin/jupyter-labextension\", line 8, in <module>\n",
      "    sys.exit(main())\n",
      "  File \"/opt/conda/lib/python3.8/site-packages/jupyter_core/application.py\", line 264, in launch_instance\n",
      "    return super(JupyterApp, cls).launch_instance(argv=argv, **kwargs)\n",
      "  File \"/opt/conda/lib/python3.8/site-packages/traitlets/config/application.py\", line 846, in launch_instance\n",
      "    app.start()\n",
      "  File \"/opt/conda/lib/python3.8/site-packages/jupyterlab/labextensions.py\", line 497, in start\n",
      "    super(LabExtensionApp, self).start()\n",
      "  File \"/opt/conda/lib/python3.8/site-packages/jupyter_core/application.py\", line 253, in start\n",
      "    self.subapp.start()\n",
      "  File \"/opt/conda/lib/python3.8/site-packages/jupyterlab/labextensions.py\", line 153, in start\n",
      "    build(\n",
      "  File \"/opt/conda/lib/python3.8/site-packages/jupyterlab/commands.py\", line 506, in build\n",
      "    return handler.build(\n",
      "  File \"/opt/conda/lib/python3.8/site-packages/jupyterlab/commands.py\", line 718, in build\n",
      "    ret = self._run([\"node\", YARN_PATH, \"run\", command], cwd=staging)\n",
      "  File \"/opt/conda/lib/python3.8/site-packages/jupyterlab/commands.py\", line 1970, in _run\n",
      "    return proc.wait()\n",
      "  File \"/opt/conda/lib/python3.8/site-packages/jupyterlab/commands.py\", line 127, in wait\n",
      "    out, _ = proc.communicate(timeout=0.1)\n",
      "  File \"/opt/conda/lib/python3.8/subprocess.py\", line 1028, in communicate\n",
      "    stdout, stderr = self._communicate(input, endtime, timeout)\n",
      "  File \"/opt/conda/lib/python3.8/subprocess.py\", line 1868, in _communicate\n",
      "    ready = selector.select(timeout)\n",
      "  File \"/opt/conda/lib/python3.8/selectors.py\", line 415, in select\n",
      "    fd_event_list = self._selector.poll(timeout)\n",
      "KeyboardInterrupt\n"
     ]
    }
   ],
   "source": [
    "import plotly.express as px\n",
    "df = px.data.iris()\n",
    "fig = px.scatter(df, x=\"sepal_width\", y=\"sepal_length\", color=\"species\")\n",
    "fig.show()"
   ]
  },
  {
   "cell_type": "code",
   "execution_count": 6,
   "id": "b8346a1e-668f-42c1-8b0b-c284daa4d3cf",
   "metadata": {},
   "outputs": [
    {
     "name": "stdout",
     "output_type": "stream",
     "text": [
      "No compatible version found for jupyterlab_tensorboard!\n",
      "No compatible version found for jupyterlab-jupytext!\n",
      "Extension 'jupyter-matplotlib' already up to date\n",
      "Extension 'jupyterlab-plotly' already up to date\n"
     ]
    }
   ],
   "source": [
    "!jupyter labextension update --all"
   ]
  },
  {
   "cell_type": "code",
   "execution_count": null,
   "id": "1e2e7561-6fe7-4edd-b87b-ab6624065ed5",
   "metadata": {},
   "outputs": [
    {
     "name": "stdout",
     "output_type": "stream",
     "text": [
      "[LabBuildApp] JupyterLab 3.4.5\n",
      "[LabBuildApp] Building in /opt/conda/share/jupyter/lab\n",
      "[LabBuildApp] Building jupyterlab assets (production, minimized)\n",
      "[LabBuildApp] WARNING | The extension \"jupyterlab_tensorboard\" is outdated.\n",
      "\n",
      "[LabBuildApp] WARNING | The extension \"jupyterlab-jupytext\" is outdated.\n",
      "\n",
      "-"
     ]
    }
   ],
   "source": [
    "!jupyter lab build "
   ]
  },
  {
   "cell_type": "code",
   "execution_count": null,
   "id": "893f37d5-7290-4455-a898-18784f4f937c",
   "metadata": {},
   "outputs": [],
   "source": [
    "!jupyter labextension list"
   ]
  },
  {
   "cell_type": "code",
   "execution_count": null,
   "id": "2ff26f6d-424c-43ff-b96a-c783fc961cbc",
   "metadata": {},
   "outputs": [],
   "source": [
    "!pip install sklearn numpy matplotlib seaborn  --quiet"
   ]
  },
  {
   "cell_type": "code",
   "execution_count": null,
   "id": "fccb44c5-161d-4686-9ba6-56af6a645b84",
   "metadata": {
    "tags": []
   },
   "outputs": [],
   "source": [
    "%matplotlib widget"
   ]
  },
  {
   "cell_type": "code",
   "execution_count": null,
   "id": "5fdc63ff-0665-4396-8386-4f2a4d3bfdb3",
   "metadata": {
    "tags": []
   },
   "outputs": [],
   "source": [
    "from sklearn.datasets import fetch_openml\n",
    "import numpy as np\n",
    "import matplotlib.pyplot as plt\n",
    "\n",
    "# Load the MNIST data\n",
    "X, y = fetch_openml('mnist_784', version=1, return_X_y=True, as_frame=False)"
   ]
  },
  {
   "cell_type": "code",
   "execution_count": null,
   "id": "9359998b-1234-4253-a956-eed4b9b7128f",
   "metadata": {},
   "outputs": [],
   "source": [
    "# Randomly select 1000 samples for performance reasons\n",
    "np.random.seed(100)\n",
    " \n",
    "# Show two example images\n",
    "fig, ax = plt.subplots(1,2)\n",
    "ax[0].imshow(X[11,:].reshape(28,28), 'Greys')\n",
    "ax[1].imshow(X[15,:].reshape(28,28), 'Greys')\n",
    "ax[0].set_title(\"Label 3\")\n",
    "ax[1].set_title(\"Label 8\")"
   ]
  },
  {
   "cell_type": "code",
   "execution_count": null,
   "id": "9ff93b0c-0a69-47da-a52a-d91ad65fa82a",
   "metadata": {},
   "outputs": [],
   "source": [
    "print(X.shape)\n",
    "# (1000, 784)\n",
    "# 1000 Samples with 784 features\n",
    "print(y.shape)\n",
    "# (1000,)\n",
    "# 1000 labels\n",
    "print(np.unique(y))\n",
    "# array(['0', '1', '2', '3', '4', '5', '6', '7', '8', '9'], dtype=object)\n",
    "# The 10 classes of the images\n"
   ]
  },
  {
   "cell_type": "code",
   "execution_count": null,
   "id": "dd9c1557-0218-4acd-8d24-e2a9a21b6923",
   "metadata": {},
   "outputs": [],
   "source": [
    "# https://danielmuellerkomorowska.com/2021/01/05/introduction-to-t-sne-in-python-with-scikit-learn/\n",
    "\n",
    "from sklearn.manifold import TSNE\n",
    "import pandas as pd\n",
    "import seaborn as sns\n",
    "from matplotlib.pyplot import figure\n",
    "    \n",
    "# We want to get TSNE embedding with 2 dimensions\n",
    "n_components = 2\n",
    "tsne = TSNE(n_components)\n",
    "tsne_result = tsne.fit_transform(X)\n",
    "tsne_result.shape\n",
    "# (1000, 2)\n",
    "# Two dimensions for each of our images"
   ]
  },
  {
   "cell_type": "code",
   "execution_count": null,
   "id": "d828fe2e-4bdb-4a97-b5c8-6a122fcd7938",
   "metadata": {},
   "outputs": [],
   "source": [
    "# Plot the result of our TSNE with the label color coded\n",
    "# A lot of the stuff here is about making the plot look pretty and not TSNE\n",
    "tsne_result_df = pd.DataFrame({\n",
    "    'tsne_1': tsne_result[:,0], \n",
    "    'tsne_2': tsne_result[:,1], \n",
    "    'label': y})\n",
    "\n",
    "plt.figure(figsize=(10, 10), dpi=80)\n",
    "\n",
    "sns.scatterplot(x='tsne_1', \n",
    "                y='tsne_2', \n",
    "                hue='label', \n",
    "                data=tsne_result_df, \n",
    "                #ax=ax,\n",
    "                s=20)\n",
    "lim = (tsne_result.min()-5, tsne_result.max()+5)\n",
    "ax.set_xlim(lim)\n",
    "ax.set_ylim(lim)\n",
    "ax.set_aspect('equal')\n",
    "ax.legend(bbox_to_anchor=(1.05, 1), loc=2, borderaxespad=0.0)"
   ]
  },
  {
   "cell_type": "code",
   "execution_count": null,
   "id": "61beda5c-cb32-4acc-8340-d02193c3b399",
   "metadata": {},
   "outputs": [],
   "source": [
    "X"
   ]
  },
  {
   "cell_type": "code",
   "execution_count": null,
   "id": "e6df8336-e83c-4289-8f4b-f71d92c07b98",
   "metadata": {},
   "outputs": [],
   "source": []
  }
 ],
 "metadata": {
  "kernelspec": {
   "display_name": "Python 3 (ipykernel)",
   "language": "python",
   "name": "python3"
  },
  "language_info": {
   "codemirror_mode": {
    "name": "ipython",
    "version": 3
   },
   "file_extension": ".py",
   "mimetype": "text/x-python",
   "name": "python",
   "nbconvert_exporter": "python",
   "pygments_lexer": "ipython3",
   "version": "3.8.12"
  }
 },
 "nbformat": 4,
 "nbformat_minor": 5
}
